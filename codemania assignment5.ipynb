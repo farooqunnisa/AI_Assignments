{
 "cells": [
  {
   "cell_type": "code",
   "execution_count": 1,
   "metadata": {},
   "outputs": [
    {
     "name": "stdout",
     "output_type": "stream",
     "text": [
      "        english  hindi  math  science  social\n",
      "raju         60     65    85       60      90\n",
      "reema        65     70    80       65      91\n",
      "rohan        70     75    75       70      92\n",
      "sanvi        75     80    70       75      93\n",
      "danish       80     85    65       80      94\n"
     ]
    }
   ],
   "source": [
    "#assignment5\n",
    "'''create a directory for students and their marks. \n",
    "Each student having 5 subjects. \n",
    "Convert this into DataFrame. \n",
    "Find the student who gets max marks'''\n",
    "import pandas as pd\n",
    "class_marks=[{'english':60,'hindi':65,'math':85,'science':60,'social':90},\n",
    "             {'english':65,'hindi':70,'math':80,'science':65,'social':91},\n",
    "             {'english':70,'hindi':75,'math':75,'science':70,'social':92},\n",
    "             {'english':75,'hindi':80,'math':70,'science':75,'social':93},\n",
    "             {'english':80,'hindi':85,'math':65,'science':80,'social':94}]\n",
    "student_marks=pd.DataFrame(class_marks,index=['raju','reema','rohan','sanvi','danish'])\n",
    "print(student_marks)"
   ]
  },
  {
   "cell_type": "code",
   "execution_count": 2,
   "metadata": {},
   "outputs": [
    {
     "name": "stdout",
     "output_type": "stream",
     "text": [
      "        english  hindi  math  science  social  total\n",
      "raju         60     65    85       60      90    360\n",
      "reema        65     70    80       65      91    371\n",
      "rohan        70     75    75       70      92    382\n",
      "sanvi        75     80    70       75      93    393\n",
      "danish       80     85    65       80      94    404\n"
     ]
    }
   ],
   "source": [
    "student_marks['total']=student_marks['english']+student_marks['hindi']+student_marks['math']+student_marks['science']+student_marks['social']\n",
    "print(student_marks)"
   ]
  },
  {
   "cell_type": "code",
   "execution_count": 3,
   "metadata": {},
   "outputs": [
    {
     "name": "stdout",
     "output_type": "stream",
     "text": [
      "404\n"
     ]
    }
   ],
   "source": [
    "max_marks=student_marks['total'].max()\n",
    "print(max_marks)"
   ]
  },
  {
   "cell_type": "code",
   "execution_count": 4,
   "metadata": {},
   "outputs": [
    {
     "data": {
      "text/html": [
       "<div>\n",
       "<style scoped>\n",
       "    .dataframe tbody tr th:only-of-type {\n",
       "        vertical-align: middle;\n",
       "    }\n",
       "\n",
       "    .dataframe tbody tr th {\n",
       "        vertical-align: top;\n",
       "    }\n",
       "\n",
       "    .dataframe thead th {\n",
       "        text-align: right;\n",
       "    }\n",
       "</style>\n",
       "<table border=\"1\" class=\"dataframe\">\n",
       "  <thead>\n",
       "    <tr style=\"text-align: right;\">\n",
       "      <th></th>\n",
       "      <th>english</th>\n",
       "      <th>hindi</th>\n",
       "      <th>math</th>\n",
       "      <th>science</th>\n",
       "      <th>social</th>\n",
       "      <th>total</th>\n",
       "    </tr>\n",
       "  </thead>\n",
       "  <tbody>\n",
       "    <tr>\n",
       "      <th>danish</th>\n",
       "      <td>80</td>\n",
       "      <td>85</td>\n",
       "      <td>65</td>\n",
       "      <td>80</td>\n",
       "      <td>94</td>\n",
       "      <td>404</td>\n",
       "    </tr>\n",
       "  </tbody>\n",
       "</table>\n",
       "</div>"
      ],
      "text/plain": [
       "        english  hindi  math  science  social  total\n",
       "danish       80     85    65       80      94    404"
      ]
     },
     "execution_count": 4,
     "metadata": {},
     "output_type": "execute_result"
    }
   ],
   "source": [
    "student_marks.loc[student_marks['total'] == max_marks]"
   ]
  },
  {
   "cell_type": "code",
   "execution_count": null,
   "metadata": {},
   "outputs": [],
   "source": []
  }
 ],
 "metadata": {
  "kernelspec": {
   "display_name": "Python 3",
   "language": "python",
   "name": "python3"
  },
  "language_info": {
   "codemirror_mode": {
    "name": "ipython",
    "version": 3
   },
   "file_extension": ".py",
   "mimetype": "text/x-python",
   "name": "python",
   "nbconvert_exporter": "python",
   "pygments_lexer": "ipython3",
   "version": "3.7.3"
  }
 },
 "nbformat": 4,
 "nbformat_minor": 2
}
