{
 "cells": [
  {
   "cell_type": "code",
   "execution_count": 1,
   "metadata": {},
   "outputs": [],
   "source": [
    "#assignment3\n",
    "#Q1\n",
    "import numpy as np"
   ]
  },
  {
   "cell_type": "code",
   "execution_count": 2,
   "metadata": {},
   "outputs": [
    {
     "name": "stdout",
     "output_type": "stream",
     "text": [
      "[ 6.5  8.5 10.5 12.5]\n",
      "[-4.5 -4.5 -4.5 -4.5]\n",
      "[ 5.5 13.  22.5 34. ]\n",
      "[0.18181818 0.30769231 0.4        0.47058824]\n",
      "[0. 0. 0. 0.]\n"
     ]
    }
   ],
   "source": [
    "x = np.array([1,2,3,4])\n",
    "y = np.array([5.5,6.5,7.5,8.5])\n",
    "print(x+y)\n",
    "print(x-y)\n",
    "print(x*y)\n",
    "print(x/y)\n",
    "print(x//y)"
   ]
  },
  {
   "cell_type": "code",
   "execution_count": 3,
   "metadata": {},
   "outputs": [
    {
     "name": "stdout",
     "output_type": "stream",
     "text": [
      "[[1.         1.41421356]\n",
      " [1.73205081 2.        ]]\n",
      "[[ 2.71828183  7.3890561 ]\n",
      " [20.08553692 54.59815003]]\n",
      "[1 2]\n",
      "[3 4]\n",
      "[2. 3.]\n",
      "[1. 1.]\n",
      "[2. 3.]\n",
      "[1 3]\n",
      "[2 4]\n",
      "[1.5 3.5]\n",
      "[0.5 0.5]\n",
      "[1.5 3.5]\n"
     ]
    }
   ],
   "source": [
    "#Q2\n",
    "X = np.array([[1,2],[3,4]])\n",
    "print(np.sqrt(X))\n",
    "print(np.exp(X))\n",
    "print(np.min(X,axis=0))\n",
    "print(np.max(X,axis=0))\n",
    "print(np.median(X,axis=0))\n",
    "print(np.std(X,axis=0))\n",
    "print(np.mean(X,axis=0))\n",
    "print(np.min(X,axis=1))\n",
    "print(np.max(X,axis=1))\n",
    "print(np.median(X,axis=1))\n",
    "print(np.std(X,axis=1))\n",
    "print(np.mean(X,axis=1))"
   ]
  },
  {
   "cell_type": "code",
   "execution_count": null,
   "metadata": {},
   "outputs": [],
   "source": []
  }
 ],
 "metadata": {
  "kernelspec": {
   "display_name": "Python 3",
   "language": "python",
   "name": "python3"
  },
  "language_info": {
   "codemirror_mode": {
    "name": "ipython",
    "version": 3
   },
   "file_extension": ".py",
   "mimetype": "text/x-python",
   "name": "python",
   "nbconvert_exporter": "python",
   "pygments_lexer": "ipython3",
   "version": "3.7.3"
  }
 },
 "nbformat": 4,
 "nbformat_minor": 2
}
