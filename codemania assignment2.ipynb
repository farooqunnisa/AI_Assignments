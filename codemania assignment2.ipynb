{
 "cells": [
  {
   "cell_type": "code",
   "execution_count": 1,
   "metadata": {},
   "outputs": [
    {
     "name": "stdout",
     "output_type": "stream",
     "text": [
      "enter a positive no.:23\n",
      "no. is lesser\n"
     ]
    }
   ],
   "source": [
    "## assignment2\n",
    "#Q1\n",
    "answer = 30\n",
    "guess = int(input(\"enter a positive no.:\"))\n",
    "if guess <= 50 and guess > 30:\n",
    "    print(\"no. is greater\")\n",
    "elif guess >50:\n",
    "    print(\"no. is too high\")\n",
    "elif guess<30 and guess>=10:\n",
    "    print(\"no. is lesser\")\n",
    "elif guess<10:\n",
    "    print(\"no. is too low\")\n",
    "elif guess == answer:\n",
    "    print(\"no. is equal to answer\")"
   ]
  },
  {
   "cell_type": "code",
   "execution_count": 2,
   "metadata": {},
   "outputs": [
    {
     "name": "stdout",
     "output_type": "stream",
     "text": [
      "5\n",
      "10\n",
      "15\n",
      "20\n",
      "25\n"
     ]
    }
   ],
   "source": [
    "#Q2\n",
    "z=[1,2,3,4,5,6,7,8,9,10,11,12,13,14,15,18,20,23,25,40,45,35,55,65]\n",
    "for i in z:\n",
    "    if i%5==0 and i<30:\n",
    "        print(i)"
   ]
  },
  {
   "cell_type": "code",
   "execution_count": 3,
   "metadata": {},
   "outputs": [
    {
     "name": "stdout",
     "output_type": "stream",
     "text": [
      "[1.0]\n",
      "[1.0]\n",
      "[1.0]\n",
      "[1.0, 2.0]\n",
      "[1.0, 2.0]\n",
      "[1.0, 2.0]\n",
      "[1.0, 2.0]\n",
      "[1.0, 2.0]\n",
      "[1.0, 2.0, 3.0]\n",
      "[1.0, 2.0, 3.0]\n",
      "[1.0, 2.0, 3.0]\n",
      "[1.0, 2.0, 3.0]\n",
      "[1.0, 2.0, 3.0]\n",
      "[1.0, 2.0, 3.0]\n",
      "[1.0, 2.0, 3.0]\n",
      "[1.0, 2.0, 3.0]\n",
      "[1.0, 2.0, 3.0]\n",
      "[1.0, 2.0, 3.0]\n",
      "[1.0, 2.0, 3.0, 5.0]\n",
      "[1.0, 2.0, 3.0, 5.0]\n",
      "[1.0, 2.0, 3.0, 5.0]\n",
      "[1.0, 2.0, 3.0, 5.0]\n",
      "[1.0, 2.0, 3.0, 5.0]\n",
      "[1.0, 2.0, 3.0, 5.0]\n"
     ]
    }
   ],
   "source": [
    "#Q3\n",
    "z=[1,2,3,4,5,6,7,8,9,10,11,12,13,14,15,18,20,23,25,40,45,35,55,65]\n",
    "list0=[]\n",
    "from math import sqrt\n",
    "for i in z:\n",
    "    i<40\n",
    "    y=(sqrt(i))\n",
    "    if y==int(y):\n",
    "        list0.append(y)\n",
    "    print(list0)"
   ]
  },
  {
   "cell_type": "code",
   "execution_count": 4,
   "metadata": {},
   "outputs": [
    {
     "name": "stdout",
     "output_type": "stream",
     "text": [
      "[1.0, 2.0, 3.0, 5.0]\n",
      "25.0\n"
     ]
    }
   ],
   "source": [
    "print(list0)\n",
    "a=max(list0)\n",
    "nearest_square=a**2\n",
    "print(nearest_square)"
   ]
  },
  {
   "cell_type": "code",
   "execution_count": null,
   "metadata": {},
   "outputs": [],
   "source": []
  }
 ],
 "metadata": {
  "kernelspec": {
   "display_name": "Python 3",
   "language": "python",
   "name": "python3"
  },
  "language_info": {
   "codemirror_mode": {
    "name": "ipython",
    "version": 3
   },
   "file_extension": ".py",
   "mimetype": "text/x-python",
   "name": "python",
   "nbconvert_exporter": "python",
   "pygments_lexer": "ipython3",
   "version": "3.7.3"
  }
 },
 "nbformat": 4,
 "nbformat_minor": 2
}
